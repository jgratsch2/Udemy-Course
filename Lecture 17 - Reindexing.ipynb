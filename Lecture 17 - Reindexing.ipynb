{
 "cells": [
  {
   "cell_type": "code",
   "execution_count": 2,
   "metadata": {
    "collapsed": true
   },
   "outputs": [],
   "source": [
    "import numpy as np\n",
    "from pandas import Series, DataFrame\n",
    "import pandas as pd\n",
    "\n",
    "from numpy.random import randn"
   ]
  },
  {
   "cell_type": "code",
   "execution_count": 3,
   "metadata": {
    "collapsed": true
   },
   "outputs": [],
   "source": [
    "ser1 = Series([1,2,3,4], index = ['A','B','C','D'])"
   ]
  },
  {
   "cell_type": "code",
   "execution_count": 4,
   "metadata": {
    "collapsed": false
   },
   "outputs": [
    {
     "data": {
      "text/plain": [
       "A    1\n",
       "B    2\n",
       "C    3\n",
       "D    4\n",
       "dtype: int64"
      ]
     },
     "execution_count": 4,
     "metadata": {},
     "output_type": "execute_result"
    }
   ],
   "source": [
    "ser1"
   ]
  },
  {
   "cell_type": "code",
   "execution_count": 5,
   "metadata": {
    "collapsed": false
   },
   "outputs": [
    {
     "data": {
      "text/plain": [
       "A     1\n",
       "B     2\n",
       "C     3\n",
       "D     4\n",
       "E   NaN\n",
       "F   NaN\n",
       "dtype: float64"
      ]
     },
     "execution_count": 5,
     "metadata": {},
     "output_type": "execute_result"
    }
   ],
   "source": [
    "ser2 = ser1.reindex(['A','B','C','D','E','F'])\n",
    "ser2"
   ]
  },
  {
   "cell_type": "code",
   "execution_count": 6,
   "metadata": {
    "collapsed": false
   },
   "outputs": [
    {
     "data": {
      "text/plain": [
       "A     1\n",
       "B     2\n",
       "C     3\n",
       "D     4\n",
       "E   NaN\n",
       "F   NaN\n",
       "G     0\n",
       "dtype: float64"
      ]
     },
     "execution_count": 6,
     "metadata": {},
     "output_type": "execute_result"
    }
   ],
   "source": [
    "ser2.reindex(['A','B','C','D','E','F','G'], fill_value = 0)"
   ]
  },
  {
   "cell_type": "code",
   "execution_count": 7,
   "metadata": {
    "collapsed": false
   },
   "outputs": [
    {
     "data": {
      "text/plain": [
       "0        USA\n",
       "5     Mexico\n",
       "10    Canada\n",
       "dtype: object"
      ]
     },
     "execution_count": 7,
     "metadata": {},
     "output_type": "execute_result"
    }
   ],
   "source": [
    "ser3 = Series(['USA','Mexico','Canada'], index = [0,5,10])\n",
    "ser3"
   ]
  },
  {
   "cell_type": "code",
   "execution_count": 8,
   "metadata": {
    "collapsed": true
   },
   "outputs": [],
   "source": [
    "ranger = range(15)"
   ]
  },
  {
   "cell_type": "code",
   "execution_count": 9,
   "metadata": {
    "collapsed": false
   },
   "outputs": [
    {
     "data": {
      "text/plain": [
       "range(0, 15)"
      ]
     },
     "execution_count": 9,
     "metadata": {},
     "output_type": "execute_result"
    }
   ],
   "source": [
    "ranger"
   ]
  },
  {
   "cell_type": "code",
   "execution_count": 10,
   "metadata": {
    "collapsed": false
   },
   "outputs": [
    {
     "data": {
      "text/plain": [
       "0        USA\n",
       "1        USA\n",
       "2        USA\n",
       "3        USA\n",
       "4        USA\n",
       "5     Mexico\n",
       "6     Mexico\n",
       "7     Mexico\n",
       "8     Mexico\n",
       "9     Mexico\n",
       "10    Canada\n",
       "11    Canada\n",
       "12    Canada\n",
       "13    Canada\n",
       "14    Canada\n",
       "dtype: object"
      ]
     },
     "execution_count": 10,
     "metadata": {},
     "output_type": "execute_result"
    }
   ],
   "source": [
    "ser3.reindex(ranger,method='ffill')"
   ]
  },
  {
   "cell_type": "code",
   "execution_count": 12,
   "metadata": {
    "collapsed": false
   },
   "outputs": [],
   "source": [
    "dframe = DataFrame(randn(25).reshape((5,5)), index = ['A','B','D','E','F'], columns=['col1', 'col2','col3','col4','col5'])"
   ]
  },
  {
   "cell_type": "code",
   "execution_count": 13,
   "metadata": {
    "collapsed": false
   },
   "outputs": [
    {
     "data": {
      "text/html": [
       "<div>\n",
       "<table border=\"1\" class=\"dataframe\">\n",
       "  <thead>\n",
       "    <tr style=\"text-align: right;\">\n",
       "      <th></th>\n",
       "      <th>col1</th>\n",
       "      <th>col2</th>\n",
       "      <th>col3</th>\n",
       "      <th>col4</th>\n",
       "      <th>col5</th>\n",
       "    </tr>\n",
       "  </thead>\n",
       "  <tbody>\n",
       "    <tr>\n",
       "      <th>A</th>\n",
       "      <td>0.969134</td>\n",
       "      <td>1.079653</td>\n",
       "      <td>-1.127864</td>\n",
       "      <td>2.458721</td>\n",
       "      <td>-0.987283</td>\n",
       "    </tr>\n",
       "    <tr>\n",
       "      <th>B</th>\n",
       "      <td>-0.953076</td>\n",
       "      <td>-2.178616</td>\n",
       "      <td>-1.106587</td>\n",
       "      <td>-1.787030</td>\n",
       "      <td>-2.177747</td>\n",
       "    </tr>\n",
       "    <tr>\n",
       "      <th>D</th>\n",
       "      <td>-0.464864</td>\n",
       "      <td>-1.493538</td>\n",
       "      <td>0.557068</td>\n",
       "      <td>-0.783040</td>\n",
       "      <td>2.667275</td>\n",
       "    </tr>\n",
       "    <tr>\n",
       "      <th>E</th>\n",
       "      <td>-0.565771</td>\n",
       "      <td>-1.191740</td>\n",
       "      <td>-0.590802</td>\n",
       "      <td>-0.929120</td>\n",
       "      <td>-0.133003</td>\n",
       "    </tr>\n",
       "    <tr>\n",
       "      <th>F</th>\n",
       "      <td>-0.669016</td>\n",
       "      <td>0.845170</td>\n",
       "      <td>1.084580</td>\n",
       "      <td>0.114969</td>\n",
       "      <td>0.088635</td>\n",
       "    </tr>\n",
       "  </tbody>\n",
       "</table>\n",
       "</div>"
      ],
      "text/plain": [
       "       col1      col2      col3      col4      col5\n",
       "A  0.969134  1.079653 -1.127864  2.458721 -0.987283\n",
       "B -0.953076 -2.178616 -1.106587 -1.787030 -2.177747\n",
       "D -0.464864 -1.493538  0.557068 -0.783040  2.667275\n",
       "E -0.565771 -1.191740 -0.590802 -0.929120 -0.133003\n",
       "F -0.669016  0.845170  1.084580  0.114969  0.088635"
      ]
     },
     "execution_count": 13,
     "metadata": {},
     "output_type": "execute_result"
    }
   ],
   "source": [
    "dframe"
   ]
  },
  {
   "cell_type": "code",
   "execution_count": 14,
   "metadata": {
    "collapsed": true
   },
   "outputs": [],
   "source": [
    "dframe2 = dframe.reindex(['A','B','C','D','E','F'])"
   ]
  },
  {
   "cell_type": "code",
   "execution_count": 15,
   "metadata": {
    "collapsed": false
   },
   "outputs": [
    {
     "data": {
      "text/html": [
       "<div>\n",
       "<table border=\"1\" class=\"dataframe\">\n",
       "  <thead>\n",
       "    <tr style=\"text-align: right;\">\n",
       "      <th></th>\n",
       "      <th>col1</th>\n",
       "      <th>col2</th>\n",
       "      <th>col3</th>\n",
       "      <th>col4</th>\n",
       "      <th>col5</th>\n",
       "    </tr>\n",
       "  </thead>\n",
       "  <tbody>\n",
       "    <tr>\n",
       "      <th>A</th>\n",
       "      <td>0.969134</td>\n",
       "      <td>1.079653</td>\n",
       "      <td>-1.127864</td>\n",
       "      <td>2.458721</td>\n",
       "      <td>-0.987283</td>\n",
       "    </tr>\n",
       "    <tr>\n",
       "      <th>B</th>\n",
       "      <td>-0.953076</td>\n",
       "      <td>-2.178616</td>\n",
       "      <td>-1.106587</td>\n",
       "      <td>-1.787030</td>\n",
       "      <td>-2.177747</td>\n",
       "    </tr>\n",
       "    <tr>\n",
       "      <th>C</th>\n",
       "      <td>NaN</td>\n",
       "      <td>NaN</td>\n",
       "      <td>NaN</td>\n",
       "      <td>NaN</td>\n",
       "      <td>NaN</td>\n",
       "    </tr>\n",
       "    <tr>\n",
       "      <th>D</th>\n",
       "      <td>-0.464864</td>\n",
       "      <td>-1.493538</td>\n",
       "      <td>0.557068</td>\n",
       "      <td>-0.783040</td>\n",
       "      <td>2.667275</td>\n",
       "    </tr>\n",
       "    <tr>\n",
       "      <th>E</th>\n",
       "      <td>-0.565771</td>\n",
       "      <td>-1.191740</td>\n",
       "      <td>-0.590802</td>\n",
       "      <td>-0.929120</td>\n",
       "      <td>-0.133003</td>\n",
       "    </tr>\n",
       "    <tr>\n",
       "      <th>F</th>\n",
       "      <td>-0.669016</td>\n",
       "      <td>0.845170</td>\n",
       "      <td>1.084580</td>\n",
       "      <td>0.114969</td>\n",
       "      <td>0.088635</td>\n",
       "    </tr>\n",
       "  </tbody>\n",
       "</table>\n",
       "</div>"
      ],
      "text/plain": [
       "       col1      col2      col3      col4      col5\n",
       "A  0.969134  1.079653 -1.127864  2.458721 -0.987283\n",
       "B -0.953076 -2.178616 -1.106587 -1.787030 -2.177747\n",
       "C       NaN       NaN       NaN       NaN       NaN\n",
       "D -0.464864 -1.493538  0.557068 -0.783040  2.667275\n",
       "E -0.565771 -1.191740 -0.590802 -0.929120 -0.133003\n",
       "F -0.669016  0.845170  1.084580  0.114969  0.088635"
      ]
     },
     "execution_count": 15,
     "metadata": {},
     "output_type": "execute_result"
    }
   ],
   "source": [
    "dframe2"
   ]
  },
  {
   "cell_type": "code",
   "execution_count": 16,
   "metadata": {
    "collapsed": true
   },
   "outputs": [],
   "source": [
    "new_columns = ['col1','col2','col3','col4','col5','col6']"
   ]
  },
  {
   "cell_type": "code",
   "execution_count": 17,
   "metadata": {
    "collapsed": false
   },
   "outputs": [
    {
     "data": {
      "text/html": [
       "<div>\n",
       "<table border=\"1\" class=\"dataframe\">\n",
       "  <thead>\n",
       "    <tr style=\"text-align: right;\">\n",
       "      <th></th>\n",
       "      <th>col1</th>\n",
       "      <th>col2</th>\n",
       "      <th>col3</th>\n",
       "      <th>col4</th>\n",
       "      <th>col5</th>\n",
       "      <th>col6</th>\n",
       "    </tr>\n",
       "  </thead>\n",
       "  <tbody>\n",
       "    <tr>\n",
       "      <th>A</th>\n",
       "      <td>0.969134</td>\n",
       "      <td>1.079653</td>\n",
       "      <td>-1.127864</td>\n",
       "      <td>2.458721</td>\n",
       "      <td>-0.987283</td>\n",
       "      <td>NaN</td>\n",
       "    </tr>\n",
       "    <tr>\n",
       "      <th>B</th>\n",
       "      <td>-0.953076</td>\n",
       "      <td>-2.178616</td>\n",
       "      <td>-1.106587</td>\n",
       "      <td>-1.787030</td>\n",
       "      <td>-2.177747</td>\n",
       "      <td>NaN</td>\n",
       "    </tr>\n",
       "    <tr>\n",
       "      <th>C</th>\n",
       "      <td>NaN</td>\n",
       "      <td>NaN</td>\n",
       "      <td>NaN</td>\n",
       "      <td>NaN</td>\n",
       "      <td>NaN</td>\n",
       "      <td>NaN</td>\n",
       "    </tr>\n",
       "    <tr>\n",
       "      <th>D</th>\n",
       "      <td>-0.464864</td>\n",
       "      <td>-1.493538</td>\n",
       "      <td>0.557068</td>\n",
       "      <td>-0.783040</td>\n",
       "      <td>2.667275</td>\n",
       "      <td>NaN</td>\n",
       "    </tr>\n",
       "    <tr>\n",
       "      <th>E</th>\n",
       "      <td>-0.565771</td>\n",
       "      <td>-1.191740</td>\n",
       "      <td>-0.590802</td>\n",
       "      <td>-0.929120</td>\n",
       "      <td>-0.133003</td>\n",
       "      <td>NaN</td>\n",
       "    </tr>\n",
       "    <tr>\n",
       "      <th>F</th>\n",
       "      <td>-0.669016</td>\n",
       "      <td>0.845170</td>\n",
       "      <td>1.084580</td>\n",
       "      <td>0.114969</td>\n",
       "      <td>0.088635</td>\n",
       "      <td>NaN</td>\n",
       "    </tr>\n",
       "  </tbody>\n",
       "</table>\n",
       "</div>"
      ],
      "text/plain": [
       "       col1      col2      col3      col4      col5  col6\n",
       "A  0.969134  1.079653 -1.127864  2.458721 -0.987283   NaN\n",
       "B -0.953076 -2.178616 -1.106587 -1.787030 -2.177747   NaN\n",
       "C       NaN       NaN       NaN       NaN       NaN   NaN\n",
       "D -0.464864 -1.493538  0.557068 -0.783040  2.667275   NaN\n",
       "E -0.565771 -1.191740 -0.590802 -0.929120 -0.133003   NaN\n",
       "F -0.669016  0.845170  1.084580  0.114969  0.088635   NaN"
      ]
     },
     "execution_count": 17,
     "metadata": {},
     "output_type": "execute_result"
    }
   ],
   "source": [
    "dframe2.reindex(columns=new_columns)"
   ]
  },
  {
   "cell_type": "code",
   "execution_count": 18,
   "metadata": {
    "collapsed": true
   },
   "outputs": [],
   "source": [
    "dframe2['col6'] = 5"
   ]
  },
  {
   "cell_type": "code",
   "execution_count": 19,
   "metadata": {
    "collapsed": false
   },
   "outputs": [
    {
     "data": {
      "text/html": [
       "<div>\n",
       "<table border=\"1\" class=\"dataframe\">\n",
       "  <thead>\n",
       "    <tr style=\"text-align: right;\">\n",
       "      <th></th>\n",
       "      <th>col1</th>\n",
       "      <th>col2</th>\n",
       "      <th>col3</th>\n",
       "      <th>col4</th>\n",
       "      <th>col5</th>\n",
       "      <th>col6</th>\n",
       "    </tr>\n",
       "  </thead>\n",
       "  <tbody>\n",
       "    <tr>\n",
       "      <th>A</th>\n",
       "      <td>0.969134</td>\n",
       "      <td>1.079653</td>\n",
       "      <td>-1.127864</td>\n",
       "      <td>2.458721</td>\n",
       "      <td>-0.987283</td>\n",
       "      <td>5</td>\n",
       "    </tr>\n",
       "    <tr>\n",
       "      <th>B</th>\n",
       "      <td>-0.953076</td>\n",
       "      <td>-2.178616</td>\n",
       "      <td>-1.106587</td>\n",
       "      <td>-1.787030</td>\n",
       "      <td>-2.177747</td>\n",
       "      <td>5</td>\n",
       "    </tr>\n",
       "    <tr>\n",
       "      <th>C</th>\n",
       "      <td>NaN</td>\n",
       "      <td>NaN</td>\n",
       "      <td>NaN</td>\n",
       "      <td>NaN</td>\n",
       "      <td>NaN</td>\n",
       "      <td>5</td>\n",
       "    </tr>\n",
       "    <tr>\n",
       "      <th>D</th>\n",
       "      <td>-0.464864</td>\n",
       "      <td>-1.493538</td>\n",
       "      <td>0.557068</td>\n",
       "      <td>-0.783040</td>\n",
       "      <td>2.667275</td>\n",
       "      <td>5</td>\n",
       "    </tr>\n",
       "    <tr>\n",
       "      <th>E</th>\n",
       "      <td>-0.565771</td>\n",
       "      <td>-1.191740</td>\n",
       "      <td>-0.590802</td>\n",
       "      <td>-0.929120</td>\n",
       "      <td>-0.133003</td>\n",
       "      <td>5</td>\n",
       "    </tr>\n",
       "    <tr>\n",
       "      <th>F</th>\n",
       "      <td>-0.669016</td>\n",
       "      <td>0.845170</td>\n",
       "      <td>1.084580</td>\n",
       "      <td>0.114969</td>\n",
       "      <td>0.088635</td>\n",
       "      <td>5</td>\n",
       "    </tr>\n",
       "  </tbody>\n",
       "</table>\n",
       "</div>"
      ],
      "text/plain": [
       "       col1      col2      col3      col4      col5  col6\n",
       "A  0.969134  1.079653 -1.127864  2.458721 -0.987283     5\n",
       "B -0.953076 -2.178616 -1.106587 -1.787030 -2.177747     5\n",
       "C       NaN       NaN       NaN       NaN       NaN     5\n",
       "D -0.464864 -1.493538  0.557068 -0.783040  2.667275     5\n",
       "E -0.565771 -1.191740 -0.590802 -0.929120 -0.133003     5\n",
       "F -0.669016  0.845170  1.084580  0.114969  0.088635     5"
      ]
     },
     "execution_count": 19,
     "metadata": {},
     "output_type": "execute_result"
    }
   ],
   "source": [
    "dframe2"
   ]
  },
  {
   "cell_type": "code",
   "execution_count": 23,
   "metadata": {
    "collapsed": true
   },
   "outputs": [],
   "source": [
    "del dframe2['C']"
   ]
  },
  {
   "cell_type": "code",
   "execution_count": 24,
   "metadata": {
    "collapsed": false
   },
   "outputs": [
    {
     "data": {
      "text/html": [
       "<div>\n",
       "<table border=\"1\" class=\"dataframe\">\n",
       "  <thead>\n",
       "    <tr style=\"text-align: right;\">\n",
       "      <th></th>\n",
       "      <th>col1</th>\n",
       "      <th>col2</th>\n",
       "      <th>col3</th>\n",
       "      <th>col4</th>\n",
       "      <th>col5</th>\n",
       "      <th>col6</th>\n",
       "    </tr>\n",
       "  </thead>\n",
       "  <tbody>\n",
       "    <tr>\n",
       "      <th>A</th>\n",
       "      <td>0.969134</td>\n",
       "      <td>1.079653</td>\n",
       "      <td>-1.127864</td>\n",
       "      <td>2.458721</td>\n",
       "      <td>-0.987283</td>\n",
       "      <td>5</td>\n",
       "    </tr>\n",
       "    <tr>\n",
       "      <th>B</th>\n",
       "      <td>-0.953076</td>\n",
       "      <td>-2.178616</td>\n",
       "      <td>-1.106587</td>\n",
       "      <td>-1.787030</td>\n",
       "      <td>-2.177747</td>\n",
       "      <td>5</td>\n",
       "    </tr>\n",
       "    <tr>\n",
       "      <th>C</th>\n",
       "      <td>NaN</td>\n",
       "      <td>NaN</td>\n",
       "      <td>NaN</td>\n",
       "      <td>NaN</td>\n",
       "      <td>NaN</td>\n",
       "      <td>5</td>\n",
       "    </tr>\n",
       "    <tr>\n",
       "      <th>D</th>\n",
       "      <td>-0.464864</td>\n",
       "      <td>-1.493538</td>\n",
       "      <td>0.557068</td>\n",
       "      <td>-0.783040</td>\n",
       "      <td>2.667275</td>\n",
       "      <td>5</td>\n",
       "    </tr>\n",
       "    <tr>\n",
       "      <th>E</th>\n",
       "      <td>-0.565771</td>\n",
       "      <td>-1.191740</td>\n",
       "      <td>-0.590802</td>\n",
       "      <td>-0.929120</td>\n",
       "      <td>-0.133003</td>\n",
       "      <td>5</td>\n",
       "    </tr>\n",
       "    <tr>\n",
       "      <th>F</th>\n",
       "      <td>-0.669016</td>\n",
       "      <td>0.845170</td>\n",
       "      <td>1.084580</td>\n",
       "      <td>0.114969</td>\n",
       "      <td>0.088635</td>\n",
       "      <td>5</td>\n",
       "    </tr>\n",
       "  </tbody>\n",
       "</table>\n",
       "</div>"
      ],
      "text/plain": [
       "       col1      col2      col3      col4      col5  col6\n",
       "A  0.969134  1.079653 -1.127864  2.458721 -0.987283     5\n",
       "B -0.953076 -2.178616 -1.106587 -1.787030 -2.177747     5\n",
       "C       NaN       NaN       NaN       NaN       NaN     5\n",
       "D -0.464864 -1.493538  0.557068 -0.783040  2.667275     5\n",
       "E -0.565771 -1.191740 -0.590802 -0.929120 -0.133003     5\n",
       "F -0.669016  0.845170  1.084580  0.114969  0.088635     5"
      ]
     },
     "execution_count": 24,
     "metadata": {},
     "output_type": "execute_result"
    }
   ],
   "source": [
    "dframe2"
   ]
  },
  {
   "cell_type": "code",
   "execution_count": 28,
   "metadata": {
    "collapsed": false
   },
   "outputs": [
    {
     "data": {
      "text/html": [
       "<div>\n",
       "<table border=\"1\" class=\"dataframe\">\n",
       "  <thead>\n",
       "    <tr style=\"text-align: right;\">\n",
       "      <th></th>\n",
       "      <th>col1</th>\n",
       "      <th>col2</th>\n",
       "      <th>col3</th>\n",
       "      <th>col4</th>\n",
       "      <th>col5</th>\n",
       "      <th>col6</th>\n",
       "    </tr>\n",
       "  </thead>\n",
       "  <tbody>\n",
       "    <tr>\n",
       "      <th>A</th>\n",
       "      <td>0.969134</td>\n",
       "      <td>1.079653</td>\n",
       "      <td>-1.127864</td>\n",
       "      <td>2.458721</td>\n",
       "      <td>-0.987283</td>\n",
       "      <td>5</td>\n",
       "    </tr>\n",
       "    <tr>\n",
       "      <th>B</th>\n",
       "      <td>-0.953076</td>\n",
       "      <td>-2.178616</td>\n",
       "      <td>-1.106587</td>\n",
       "      <td>-1.787030</td>\n",
       "      <td>-2.177747</td>\n",
       "      <td>5</td>\n",
       "    </tr>\n",
       "    <tr>\n",
       "      <th>C</th>\n",
       "      <td>5.000000</td>\n",
       "      <td>5.000000</td>\n",
       "      <td>5.000000</td>\n",
       "      <td>5.000000</td>\n",
       "      <td>5.000000</td>\n",
       "      <td>5</td>\n",
       "    </tr>\n",
       "    <tr>\n",
       "      <th>D</th>\n",
       "      <td>-0.464864</td>\n",
       "      <td>-1.493538</td>\n",
       "      <td>0.557068</td>\n",
       "      <td>-0.783040</td>\n",
       "      <td>2.667275</td>\n",
       "      <td>5</td>\n",
       "    </tr>\n",
       "    <tr>\n",
       "      <th>E</th>\n",
       "      <td>-0.565771</td>\n",
       "      <td>-1.191740</td>\n",
       "      <td>-0.590802</td>\n",
       "      <td>-0.929120</td>\n",
       "      <td>-0.133003</td>\n",
       "      <td>5</td>\n",
       "    </tr>\n",
       "    <tr>\n",
       "      <th>F</th>\n",
       "      <td>-0.669016</td>\n",
       "      <td>0.845170</td>\n",
       "      <td>1.084580</td>\n",
       "      <td>0.114969</td>\n",
       "      <td>0.088635</td>\n",
       "      <td>5</td>\n",
       "    </tr>\n",
       "    <tr>\n",
       "      <th>col6</th>\n",
       "      <td>5.000000</td>\n",
       "      <td>5.000000</td>\n",
       "      <td>5.000000</td>\n",
       "      <td>5.000000</td>\n",
       "      <td>5.000000</td>\n",
       "      <td>5</td>\n",
       "    </tr>\n",
       "  </tbody>\n",
       "</table>\n",
       "</div>"
      ],
      "text/plain": [
       "          col1      col2      col3      col4      col5  col6\n",
       "A     0.969134  1.079653 -1.127864  2.458721 -0.987283     5\n",
       "B    -0.953076 -2.178616 -1.106587 -1.787030 -2.177747     5\n",
       "C     5.000000  5.000000  5.000000  5.000000  5.000000     5\n",
       "D    -0.464864 -1.493538  0.557068 -0.783040  2.667275     5\n",
       "E    -0.565771 -1.191740 -0.590802 -0.929120 -0.133003     5\n",
       "F    -0.669016  0.845170  1.084580  0.114969  0.088635     5\n",
       "col6  5.000000  5.000000  5.000000  5.000000  5.000000     5"
      ]
     },
     "execution_count": 28,
     "metadata": {},
     "output_type": "execute_result"
    }
   ],
   "source": [
    "dframe2.ix['col6'] = 5\n",
    "dframe2"
   ]
  },
  {
   "cell_type": "code",
   "execution_count": 29,
   "metadata": {
    "collapsed": false
   },
   "outputs": [
    {
     "data": {
      "text/html": [
       "<div>\n",
       "<table border=\"1\" class=\"dataframe\">\n",
       "  <thead>\n",
       "    <tr style=\"text-align: right;\">\n",
       "      <th></th>\n",
       "      <th>col1</th>\n",
       "      <th>col2</th>\n",
       "      <th>col3</th>\n",
       "      <th>col4</th>\n",
       "      <th>col5</th>\n",
       "      <th>C</th>\n",
       "    </tr>\n",
       "  </thead>\n",
       "  <tbody>\n",
       "    <tr>\n",
       "      <th>A</th>\n",
       "      <td>0.969134</td>\n",
       "      <td>1.079653</td>\n",
       "      <td>-1.127864</td>\n",
       "      <td>2.458721</td>\n",
       "      <td>-0.987283</td>\n",
       "      <td>5</td>\n",
       "    </tr>\n",
       "    <tr>\n",
       "      <th>B</th>\n",
       "      <td>-0.953076</td>\n",
       "      <td>-2.178616</td>\n",
       "      <td>-1.106587</td>\n",
       "      <td>-1.787030</td>\n",
       "      <td>-2.177747</td>\n",
       "      <td>5</td>\n",
       "    </tr>\n",
       "    <tr>\n",
       "      <th>D</th>\n",
       "      <td>-0.464864</td>\n",
       "      <td>-1.493538</td>\n",
       "      <td>0.557068</td>\n",
       "      <td>-0.783040</td>\n",
       "      <td>2.667275</td>\n",
       "      <td>5</td>\n",
       "    </tr>\n",
       "    <tr>\n",
       "      <th>E</th>\n",
       "      <td>-0.565771</td>\n",
       "      <td>-1.191740</td>\n",
       "      <td>-0.590802</td>\n",
       "      <td>-0.929120</td>\n",
       "      <td>-0.133003</td>\n",
       "      <td>5</td>\n",
       "    </tr>\n",
       "    <tr>\n",
       "      <th>F</th>\n",
       "      <td>-0.669016</td>\n",
       "      <td>0.845170</td>\n",
       "      <td>1.084580</td>\n",
       "      <td>0.114969</td>\n",
       "      <td>0.088635</td>\n",
       "      <td>5</td>\n",
       "    </tr>\n",
       "  </tbody>\n",
       "</table>\n",
       "</div>"
      ],
      "text/plain": [
       "       col1      col2      col3      col4      col5  C\n",
       "A  0.969134  1.079653 -1.127864  2.458721 -0.987283  5\n",
       "B -0.953076 -2.178616 -1.106587 -1.787030 -2.177747  5\n",
       "D -0.464864 -1.493538  0.557068 -0.783040  2.667275  5\n",
       "E -0.565771 -1.191740 -0.590802 -0.929120 -0.133003  5\n",
       "F -0.669016  0.845170  1.084580  0.114969  0.088635  5"
      ]
     },
     "execution_count": 29,
     "metadata": {},
     "output_type": "execute_result"
    }
   ],
   "source": [
    "dframe"
   ]
  },
  {
   "cell_type": "code",
   "execution_count": 30,
   "metadata": {
    "collapsed": true
   },
   "outputs": [],
   "source": [
    "del dframe['C']"
   ]
  },
  {
   "cell_type": "code",
   "execution_count": 32,
   "metadata": {
    "collapsed": false
   },
   "outputs": [
    {
     "data": {
      "text/html": [
       "<div>\n",
       "<table border=\"1\" class=\"dataframe\">\n",
       "  <thead>\n",
       "    <tr style=\"text-align: right;\">\n",
       "      <th></th>\n",
       "      <th>col1</th>\n",
       "      <th>col2</th>\n",
       "      <th>col3</th>\n",
       "      <th>col4</th>\n",
       "      <th>col5</th>\n",
       "    </tr>\n",
       "  </thead>\n",
       "  <tbody>\n",
       "    <tr>\n",
       "      <th>A</th>\n",
       "      <td>0.969134</td>\n",
       "      <td>1.079653</td>\n",
       "      <td>-1.127864</td>\n",
       "      <td>2.458721</td>\n",
       "      <td>-0.987283</td>\n",
       "    </tr>\n",
       "    <tr>\n",
       "      <th>B</th>\n",
       "      <td>-0.953076</td>\n",
       "      <td>-2.178616</td>\n",
       "      <td>-1.106587</td>\n",
       "      <td>-1.787030</td>\n",
       "      <td>-2.177747</td>\n",
       "    </tr>\n",
       "    <tr>\n",
       "      <th>D</th>\n",
       "      <td>-0.464864</td>\n",
       "      <td>-1.493538</td>\n",
       "      <td>0.557068</td>\n",
       "      <td>-0.783040</td>\n",
       "      <td>2.667275</td>\n",
       "    </tr>\n",
       "    <tr>\n",
       "      <th>E</th>\n",
       "      <td>-0.565771</td>\n",
       "      <td>-1.191740</td>\n",
       "      <td>-0.590802</td>\n",
       "      <td>-0.929120</td>\n",
       "      <td>-0.133003</td>\n",
       "    </tr>\n",
       "    <tr>\n",
       "      <th>F</th>\n",
       "      <td>-0.669016</td>\n",
       "      <td>0.845170</td>\n",
       "      <td>1.084580</td>\n",
       "      <td>0.114969</td>\n",
       "      <td>0.088635</td>\n",
       "    </tr>\n",
       "  </tbody>\n",
       "</table>\n",
       "</div>"
      ],
      "text/plain": [
       "       col1      col2      col3      col4      col5\n",
       "A  0.969134  1.079653 -1.127864  2.458721 -0.987283\n",
       "B -0.953076 -2.178616 -1.106587 -1.787030 -2.177747\n",
       "D -0.464864 -1.493538  0.557068 -0.783040  2.667275\n",
       "E -0.565771 -1.191740 -0.590802 -0.929120 -0.133003\n",
       "F -0.669016  0.845170  1.084580  0.114969  0.088635"
      ]
     },
     "execution_count": 32,
     "metadata": {},
     "output_type": "execute_result"
    }
   ],
   "source": [
    "dframe"
   ]
  },
  {
   "cell_type": "code",
   "execution_count": 33,
   "metadata": {
    "collapsed": false
   },
   "outputs": [
    {
     "data": {
      "text/html": [
       "<div>\n",
       "<table border=\"1\" class=\"dataframe\">\n",
       "  <thead>\n",
       "    <tr style=\"text-align: right;\">\n",
       "      <th></th>\n",
       "      <th>col1</th>\n",
       "      <th>col2</th>\n",
       "      <th>col3</th>\n",
       "      <th>col4</th>\n",
       "      <th>col5</th>\n",
       "      <th>col6</th>\n",
       "    </tr>\n",
       "  </thead>\n",
       "  <tbody>\n",
       "    <tr>\n",
       "      <th>A</th>\n",
       "      <td>0.969134</td>\n",
       "      <td>1.079653</td>\n",
       "      <td>-1.127864</td>\n",
       "      <td>2.458721</td>\n",
       "      <td>-0.987283</td>\n",
       "      <td>NaN</td>\n",
       "    </tr>\n",
       "    <tr>\n",
       "      <th>B</th>\n",
       "      <td>-0.953076</td>\n",
       "      <td>-2.178616</td>\n",
       "      <td>-1.106587</td>\n",
       "      <td>-1.787030</td>\n",
       "      <td>-2.177747</td>\n",
       "      <td>NaN</td>\n",
       "    </tr>\n",
       "    <tr>\n",
       "      <th>C</th>\n",
       "      <td>NaN</td>\n",
       "      <td>NaN</td>\n",
       "      <td>NaN</td>\n",
       "      <td>NaN</td>\n",
       "      <td>NaN</td>\n",
       "      <td>NaN</td>\n",
       "    </tr>\n",
       "    <tr>\n",
       "      <th>D</th>\n",
       "      <td>-0.464864</td>\n",
       "      <td>-1.493538</td>\n",
       "      <td>0.557068</td>\n",
       "      <td>-0.783040</td>\n",
       "      <td>2.667275</td>\n",
       "      <td>NaN</td>\n",
       "    </tr>\n",
       "    <tr>\n",
       "      <th>E</th>\n",
       "      <td>-0.565771</td>\n",
       "      <td>-1.191740</td>\n",
       "      <td>-0.590802</td>\n",
       "      <td>-0.929120</td>\n",
       "      <td>-0.133003</td>\n",
       "      <td>NaN</td>\n",
       "    </tr>\n",
       "    <tr>\n",
       "      <th>F</th>\n",
       "      <td>-0.669016</td>\n",
       "      <td>0.845170</td>\n",
       "      <td>1.084580</td>\n",
       "      <td>0.114969</td>\n",
       "      <td>0.088635</td>\n",
       "      <td>NaN</td>\n",
       "    </tr>\n",
       "  </tbody>\n",
       "</table>\n",
       "</div>"
      ],
      "text/plain": [
       "       col1      col2      col3      col4      col5  col6\n",
       "A  0.969134  1.079653 -1.127864  2.458721 -0.987283   NaN\n",
       "B -0.953076 -2.178616 -1.106587 -1.787030 -2.177747   NaN\n",
       "C       NaN       NaN       NaN       NaN       NaN   NaN\n",
       "D -0.464864 -1.493538  0.557068 -0.783040  2.667275   NaN\n",
       "E -0.565771 -1.191740 -0.590802 -0.929120 -0.133003   NaN\n",
       "F -0.669016  0.845170  1.084580  0.114969  0.088635   NaN"
      ]
     },
     "execution_count": 33,
     "metadata": {},
     "output_type": "execute_result"
    }
   ],
   "source": [
    "dframe.ix[['A','B','C','D','E','F'], new_columns]"
   ]
  },
  {
   "cell_type": "code",
   "execution_count": null,
   "metadata": {
    "collapsed": true
   },
   "outputs": [],
   "source": []
  }
 ],
 "metadata": {
  "kernelspec": {
   "display_name": "Python 3",
   "language": "python",
   "name": "python3"
  },
  "language_info": {
   "codemirror_mode": {
    "name": "ipython",
    "version": 3
   },
   "file_extension": ".py",
   "mimetype": "text/x-python",
   "name": "python",
   "nbconvert_exporter": "python",
   "pygments_lexer": "ipython3",
   "version": "3.5.2"
  }
 },
 "nbformat": 4,
 "nbformat_minor": 0
}
